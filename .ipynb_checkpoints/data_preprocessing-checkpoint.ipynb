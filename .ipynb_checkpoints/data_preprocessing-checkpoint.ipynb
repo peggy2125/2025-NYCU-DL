{
 "cells": [
  {
   "cell_type": "markdown",
   "metadata": {},
   "source": [
    " ### 自動檢查 Trimap 是否只包含背景"
   ]
  },
  {
   "cell_type": "code",
   "execution_count": null,
   "metadata": {
    "vscode": {
     "languageId": "plaintext"
    }
   },
   "outputs": [],
   "source": [
    "import numpy as np\n",
    "import glob\n",
    "from PIL import Image\n",
    "\n",
    "trimap_dir = r\"D:\\PUPU\\2025 NYCU DL\\Lab2\\Lab2_Binary_Semantic_Segmentation_2025\\Lab2_Binary_Semantic_Segmentation_2025\\dataset\\annotations\\trimaps\"\n",
    "\n",
    "# 找出全部的 trimap\n",
    "trimap_files = glob.glob(trimap_dir + \"/*.png\")\n",
    "\n",
    "for file in trimap_files:\n",
    "    trimap = np.array(Image.open(file))\n",
    "    unique_values = np.unique(trimap)  # 取得該 trimap 內的唯一像素值\n",
    "    \n",
    "    if 1 not in unique_values:  # 若缺少前景標籤\n",
    "        print(f\"⚠️ {file} 可能有錯誤：沒有標記前景\")\n"
   ]
  },
  {
   "cell_type": "markdown",
   "metadata": {},
   "source": [
    "### 檢查「未確定區域」(3) 是否出現在不應該出現的地方"
   ]
  },
  {
   "cell_type": "code",
   "execution_count": null,
   "metadata": {
    "vscode": {
     "languageId": "plaintext"
    }
   },
   "outputs": [],
   "source": [
    "for file in trimap_files:\n",
    "    trimap = np.array(Image.open(file))\n",
    "    \n",
    "    total_pixels = trimap.size\n",
    "    uncertain_pixels = np.sum(trimap == 3)\n",
    "    uncertain_ratio = uncertain_pixels / total_pixels\n",
    "\n",
    "    if uncertain_ratio > 0.3:  # 若未確定區域超過 30%\n",
    "        print(f\"⚠️ {file} 可能有問題：未確定區域比例過高 ({uncertain_ratio:.2%})\")\n"
   ]
  },
  {
   "cell_type": "markdown",
   "metadata": {},
   "source": [
    "###  找出前景面積過小的 trimap"
   ]
  },
  {
   "cell_type": "code",
   "execution_count": null,
   "metadata": {
    "vscode": {
     "languageId": "plaintext"
    }
   },
   "outputs": [],
   "source": [
    "for file in trimap_files:\n",
    "    trimap = np.array(Image.open(file))\n",
    "    \n",
    "    total_pixels = trimap.size\n",
    "    foreground_pixels = np.sum(trimap == 1)\n",
    "    foreground_ratio = foreground_pixels / total_pixels\n",
    "\n",
    "    if foreground_ratio < 0.05:  # 若前景少於 5%\n",
    "        print(f\"⚠️ {file} 可能有問題：前景過小 ({foreground_ratio:.2%})\")\n"
   ]
  },
  {
   "cell_type": "markdown",
   "metadata": {},
   "source": [
    " ### 自動修正「未確定區域」"
   ]
  },
  {
   "cell_type": "markdown",
   "metadata": {},
   "source": [
    "# 未確定區域 → 背景\n",
    "for file in trimap_files:\n",
    "    trimap = np.array(Image.open(file))\n",
    "    trimap[trimap == 3] = 2  # 直接當成背景\n",
    "\n",
    "    # 儲存新的 trimap\n",
    "    Image.fromarray(trimap).save(file)\n"
   ]
  },
  {
   "cell_type": "code",
   "execution_count": null,
   "metadata": {
    "vscode": {
     "languageId": "plaintext"
    }
   },
   "outputs": [],
   "source": [
    "# 根據鄰近像素決定\n",
    "import scipy.ndimage\n",
    "\n",
    "for file in trimap_files:\n",
    "    trimap = np.array(Image.open(file))\n",
    "\n",
    "    # 用 mode 過濾未確定區域，把它變成周圍最多的標籤\n",
    "    fixed_trimap = scipy.ndimage.generic_filter(\n",
    "        trimap, \n",
    "        lambda x: np.bincount(x[x != 3]).argmax() if 3 in x else x[4], \n",
    "        size=3\n",
    "    )\n",
    "\n",
    "    # 儲存新 trimap\n",
    "    Image.fromarray(fixed_trimap).save(file)\n"
   ]
  },
  {
   "cell_type": "markdown",
   "metadata": {},
   "source": [
    "###  視覺化檢查"
   ]
  },
  {
   "cell_type": "markdown",
   "metadata": {},
   "source": [
    "import matplotlib.pyplot as plt\n",
    "import random\n",
    "\n",
    "sample_files = random.sample(trimap_files, 5)  # 隨機抽樣 5 張\n",
    "\n",
    "fig, axes = plt.subplots(1, 5, figsize=(15, 5))\n",
    "\n",
    "for i, file in enumerate(sample_files):\n",
    "    trimap = np.array(Image.open(file))\n",
    "    axes[i].imshow(trimap, cmap='gray')\n",
    "    axes[i].set_title(f\"Trimap: {file.split('/')[-1]}\")\n",
    "    axes[i].axis('off')\n",
    "\n",
    "plt.show()\n"
   ]
  }
 ],
 "metadata": {
  "language_info": {
   "name": "python"
  }
 },
 "nbformat": 4,
 "nbformat_minor": 2
}
