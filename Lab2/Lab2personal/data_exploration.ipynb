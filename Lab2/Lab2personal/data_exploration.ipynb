{
 "cells": [
  {
   "cell_type": "markdown",
   "id": "1e785a74-d94e-4126-8af4-669dd7bb09ba",
   "metadata": {},
   "source": [
    "# images、trimaps(、xmls未用到先不檢測)各自缺失的部分"
   ]
  },
  {
   "cell_type": "code",
   "execution_count": 32,
   "id": "5e4593d6-baef-4baf-a7fa-3f76bee73b95",
   "metadata": {},
   "outputs": [
    {
     "name": "stdout",
     "output_type": "stream",
     "text": [
      "Image資料夾中的檔案總數: 7393\n",
      "Trimap資料夾中的檔案總數: 7390\n"
     ]
    }
   ],
   "source": [
    "import os\n",
    "import glob\n",
    "\n",
    "# 設定路徑\n",
    "image_dir = r\"D:\\PUPU\\2025 NYCU DL\\Lab2\\Lab2_Binary_Semantic_Segmentation_2025\\Lab2_Binary_Semantic_Segmentation_2025\\dataset\\images\"\n",
    "trimap_dir = r\"D:\\PUPU\\2025 NYCU DL\\Lab2\\Lab2_Binary_Semantic_Segmentation_2025\\Lab2_Binary_Semantic_Segmentation_2025\\dataset\\annotations\\trimaps\"\n",
    "\n",
    "# 獲取所有檔案（包括所有副檔名）\n",
    "image_files = glob.glob(os.path.join(image_dir, \"*.*\"))\n",
    "trimap_files = glob.glob(os.path.join(trimap_dir, \"*.*\"))\n",
    "\n",
    "print(f\"Image資料夾中的檔案總數: {len(image_files)}\")\n",
    "print(f\"Trimap資料夾中的檔案總數: {len(trimap_files)}\")"
   ]
  },
  {
   "cell_type": "code",
   "execution_count": 33,
   "id": "c0eaa9c3-7d02-4566-a549-a4ef386cd28e",
   "metadata": {},
   "outputs": [
    {
     "name": "stdout",
     "output_type": "stream",
     "text": [
      "\n",
      "有效的Image檔案數量: 7390\n",
      "有效的Trimap檔案數量: 7390\n"
     ]
    }
   ],
   "source": [
    "# 檢查是否有隱藏檔案或其他非圖像檔案\n",
    "image_extensions = ['.jpg', '.jpeg', '.png', '.gif', '.bmp']\n",
    "trimap_extensions = ['.png']\n",
    "# 計算有效的圖像文件數量\n",
    "valid_image_files = [f for f in image_files if os.path.splitext(f)[1].lower() in image_extensions]\n",
    "valid_trimap_files = [f for f in trimap_files if os.path.splitext(f)[1].lower() in trimap_extensions]\n",
    "print(f\"\\n有效的Image檔案數量: {len(valid_image_files)}\")\n",
    "print(f\"有效的Trimap檔案數量: {len(valid_trimap_files)}\")"
   ]
  },
  {
   "cell_type": "code",
   "execution_count": 34,
   "id": "334eb0ed-f9ff-435d-a8a4-97153566fd51",
   "metadata": {},
   "outputs": [
    {
     "name": "stdout",
     "output_type": "stream",
     "text": [
      "\n",
      "以 ._ 開頭的Image檔案數量: 0\n",
      "以 ._ 開頭的Trimap檔案數量: 0\n",
      "\n",
      "Trimap中的重複文件數量: 0\n"
     ]
    }
   ],
   "source": [
    "# 檢查是否有 ._ 開頭的檔案（macOS常見的隱藏檔案）\n",
    "dot_underscore_images = [f for f in image_files if os.path.basename(f).startswith('._')]\n",
    "dot_underscore_trimaps = [f for f in trimap_files if os.path.basename(f).startswith('._')]\n",
    "\n",
    "print(f\"\\n以 ._ 開頭的Image檔案數量: {len(dot_underscore_images)}\")\n",
    "print(f\"以 ._ 開頭的Trimap檔案數量: {len(dot_underscore_trimaps)}\")\n",
    "\n",
    "# 找出 trimap 中可能的重複文件\n",
    "trimap_basenames = [os.path.basename(f) for f in valid_trimap_files]\n",
    "trimap_duplicates = set([name for name in trimap_basenames if trimap_basenames.count(name) > 1])\n",
    "\n",
    "print(f\"\\nTrimap中的重複文件數量: {len(trimap_duplicates)}\")\n",
    "if trimap_duplicates:\n",
    "    print(\"重複的例子：\")\n",
    "    for duplicate in list(trimap_duplicates)[:5]:  # 只顯示前5個例子\n",
    "        print(duplicate)\n",
    "\n",
    "# 提取檔案名稱（不含副檔名和路徑）\n",
    "image_names = set([os.path.splitext(os.path.basename(f))[0] for f in valid_image_files])\n",
    "trimap_names = set([os.path.splitext(os.path.basename(f))[0] for f in valid_trimap_files])"
   ]
  },
  {
   "cell_type": "code",
   "execution_count": 31,
   "id": "f0f09369-5016-4fa9-87e2-6a4b542fa3b0",
   "metadata": {},
   "outputs": [
    {
     "name": "stdout",
     "output_type": "stream",
     "text": [
      "\n",
      "在 trimaps 中缺失的檔案數量 (images 中有但 trimaps 中沒有): 0\n",
      "\n",
      "在 images 中缺失的檔案數量 (trimaps 中有但 images 中沒有): 0\n",
      "\n",
      "去除 ._ 前綴後與 image 重疊的 trimap 檔案數量: 7390\n"
     ]
    }
   ],
   "source": [
    "# 找出 images 中有但 trimaps 中沒有的檔案\n",
    "missing_in_trimaps = image_names - trimap_names\n",
    "# 找出 trimaps 中有但 images 中沒有的檔案\n",
    "missing_in_images = trimap_names - image_names\n",
    "\n",
    "print(f\"\\n在 trimaps 中缺失的檔案數量 (images 中有但 trimaps 中沒有): {len(missing_in_trimaps)}\")\n",
    "if missing_in_trimaps:\n",
    "    print(\"缺失的例子：\")\n",
    "    for name in list(missing_in_trimaps)[:10]:  # 只顯示前10個例子\n",
    "        print(f\"{name}\")\n",
    "\n",
    "print(f\"\\n在 images 中缺失的檔案數量 (trimaps 中有但 images 中沒有): {len(missing_in_images)}\")\n",
    "if missing_in_images:\n",
    "    print(\"缺失的例子：\")\n",
    "    for name in list(missing_in_images)[:10]:  # 只顯示前10個例子\n",
    "        print(f\"{name}\")\n",
    "\n",
    "# 檢查 trimap 中有多少檔案名稱去除 ._ 前綴後會與 image 重疊\n",
    "trimap_names_without_prefix = set([name.replace('._', '') for name in trimap_names])\n",
    "matching_after_prefix_removal = trimap_names_without_prefix & image_names\n",
    "\n",
    "print(f\"\\n去除 ._ 前綴後與 image 重疊的 trimap 檔案數量: {len(matching_after_prefix_removal)}\")"
   ]
  },
  {
   "cell_type": "code",
   "execution_count": null,
   "id": "71206d03-33c5-45a3-b95b-80399f9346ee",
   "metadata": {},
   "outputs": [],
   "source": []
  },
  {
   "cell_type": "code",
   "execution_count": null,
   "id": "b3313ca6-6583-4e35-9191-f19b7f903030",
   "metadata": {},
   "outputs": [],
   "source": []
  },
  {
   "cell_type": "code",
   "execution_count": null,
   "id": "baa3cea3-6864-4916-a479-b60688570015",
   "metadata": {},
   "outputs": [],
   "source": [
    "# 與 list.txt 交叉檢查\n",
    "list_file = r\"D:\\PUPU\\2025 NYCU DL\\Lab2_Binary_Semantic_Segmentation_2025\\Lab2_Binary_Semantic_Segmentation_2025\\dataset\\annotations\\list.txt\"\n",
    "train_file = r\"D:\\PUPU\\2025 NYCU DL\\Lab2_Binary_Semantic_Segmentation_2025\\Lab2_Binary_Semantic_Segmentation_2025\\dataset\\annotations\\trainval.txt\"\n",
    "test_file = r\"D:\\PUPU\\2025 NYCU DL\\Lab2_Binary_Semantic_Segmentation_2025\\Lab2_Binary_Semantic_Segmentation_2025\\dataset\\annotations\\test.txt\"\n",
    "\n",
    "list_names = set()\n",
    "if os.path.exists(list_file):\n",
    "    with open(list_file, 'r') as f:\n",
    "        for line in f:\n",
    "            # 提取每行的第一個欄位（檔案名稱）\n",
    "            parts = line.strip().split()\n",
    "            if parts:\n",
    "                list_names.add(parts[0])\n",
    "\n",
    "train_names = set()\n",
    "if os.path.exists(train_file):\n",
    "    with open(train_file, 'r') as f:\n",
    "        train_names = set([line.strip() for line in f])\n",
    "\n",
    "test_names = set()\n",
    "if os.path.exists(test_file):\n",
    "    with open(test_file, 'r') as f:\n",
    "        test_names = set([line.strip() for line in f])\n",
    "\n",
    "print(\"\\n與 list.txt 交叉檢查：\")\n",
    "print(f\"list.txt 中的檔案數量：{len(list_names)}\")\n",
    "print(f\"在 list.txt 中但不在 images 中的檔案數量：{len(list_names - image_names)}\")\n",
    "print(f\"在 list.txt 中但不在 trimaps 中的檔案數量：{len(list_names - trimap_names)}\")\n",
    "\n",
    "print(\"\\n與 trainval.txt 和 test.txt 交叉檢查：\")\n",
    "print(f\"trainval.txt 中的檔案數量：{len(train_names)}\")\n",
    "print(f\"test.txt 中的檔案數量：{len(test_names)}\")\n",
    "print(f\"訓練集和測試集總數：{len(train_names) + len(test_names)}\")\n",
    "print(f\"這些檔案中但不在 images 中的數量：{len((train_names | test_names) - image_names)}\")\n",
    "print(f\"這些檔案中但不在 trimaps 中的數量：{len((train_names | test_names) - trimap_names)}\")"
   ]
  }
 ],
 "metadata": {
  "kernelspec": {
   "display_name": "Python 3 (ipykernel)",
   "language": "python",
   "name": "python3"
  },
  "language_info": {
   "codemirror_mode": {
    "name": "ipython",
    "version": 3
   },
   "file_extension": ".py",
   "mimetype": "text/x-python",
   "name": "python",
   "nbconvert_exporter": "python",
   "pygments_lexer": "ipython3",
   "version": "3.8.20"
  }
 },
 "nbformat": 4,
 "nbformat_minor": 5
}
